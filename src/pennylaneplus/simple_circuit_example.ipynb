{
 "cells": [
  {
   "cell_type": "code",
   "execution_count": 10,
   "id": "d4de520f",
   "metadata": {},
   "outputs": [],
   "source": [
    "import pennylane as pl\n",
    "import numpy as np\n",
    "import matplotlib.pyplot as plt"
   ]
  },
  {
   "cell_type": "code",
   "execution_count": 11,
   "id": "d4c149ee",
   "metadata": {},
   "outputs": [],
   "source": [
    "# Quantum Teleportation Circuit\n",
    "\n",
    "# Define a device with 3 qubits\n",
    "dev = pl.device('default.qubit', wires=3)\n",
    "\n",
    "@pl.qnode(dev)\n",
    "def quantum_teleportation(state_param):\n",
    "    \"\"\"\n",
    "    Quantum teleportation circuit.\n",
    "    \n",
    "    This circuit teleports the quantum state of qubit 0 to qubit 2\n",
    "    using an entangled Bell pair (qubits 1 and 2).\n",
    "    \n",
    "    Args:\n",
    "        state_param: Parameter to prepare the initial state |ψ⟩ = cos(θ)|0⟩ + sin(θ)|1⟩\n",
    "        \n",
    "    Returns:\n",
    "        Expectation values of Pauli Z on all three qubits\n",
    "    \"\"\"\n",
    "    \n",
    "    # Step 1: Prepare the state to teleport on qubit 0\n",
    "    # |ψ⟩ = cos(state_param)|0⟩ + sin(state_param)|1⟩\n",
    "    pl.RY(2 * state_param, wires=0)\n",
    "    \n",
    "    # Step 2: Create Bell pair (entangled state) between qubits 1 and 2\n",
    "    # |Φ⁺⟩ = (|00⟩ + |11⟩)/√2\n",
    "    pl.Hadamard(wires=1)\n",
    "    pl.CNOT(wires=[1, 2])\n",
    "    \n",
    "    # Step 3: Bell measurement on qubits 0 and 1\n",
    "    # Entangle the state to teleport with qubit 1 of the Bell pair\n",
    "    pl.CNOT(wires=[0, 1])\n",
    "    pl.Hadamard(wires=0)\n",
    "    \n",
    "    # Step 4: Measure qubits 0 and 1 (in a real device, these would be classical bits)\n",
    "    # In this simulation, we'll show the quantum state at this point\n",
    "    # The corrections would be applied based on these measurements:\n",
    "    # - If qubit 1 is |1⟩, apply X gate to qubit 2\n",
    "    # - If qubit 0 is |1⟩, apply Z gate to qubit 2\n",
    "    \n",
    "    # For demonstration, we'll use mid-circuit measurements\n",
    "    m0 = pl.measure(0)\n",
    "    m1 = pl.measure(1)\n",
    "    \n",
    "    # Step 5: Apply corrections based on measurements\n",
    "    pl.cond(m1, pl.PauliX)(wires=2)\n",
    "    pl.cond(m0, pl.PauliZ)(wires=2)\n",
    "    \n",
    "    # Return the state of qubit 2 (which should now have the teleported state)\n",
    "    return pl.probs(wires=2)\n"
   ]
  },
  {
   "cell_type": "markdown",
   "id": "1b942716",
   "metadata": {},
   "source": [
    "## Understanding Quantum Teleportation\n",
    "\n",
    "Quantum teleportation is a protocol that transfers the quantum state of one qubit to another using:\n",
    "1. **Entanglement** (Bell pair shared between sender and receiver)\n",
    "2. **Classical communication** (measurement results)\n",
    "\n",
    "### The Protocol Steps:\n",
    "\n",
    "1. **State Preparation**: We prepare a quantum state |ψ⟩ on qubit 0 that we want to teleport\n",
    "   - |ψ⟩ = cos(θ)|0⟩ + sin(θ)|1⟩\n",
    "\n",
    "2. **Bell Pair Creation**: Create an entangled pair between qubits 1 and 2\n",
    "   - |Φ⁺⟩ = (|00⟩ + |11⟩)/√2\n",
    "\n",
    "3. **Bell State Measurement**: Perform a joint measurement on qubits 0 and 1\n",
    "   - Apply CNOT(0,1) and Hadamard(0)\n",
    "   - Measure both qubits\n",
    "\n",
    "4. **Classical Communication**: Send the measurement results to the receiver\n",
    "\n",
    "5. **Correction Operations**: Apply gates to qubit 2 based on measurements\n",
    "   - If qubit 1 measured as |1⟩: apply X gate\n",
    "   - If qubit 0 measured as |1⟩: apply Z gate\n",
    "\n",
    "After these steps, qubit 2 will have the exact quantum state that was originally on qubit 0!\n",
    "\n",
    "### Key Points:\n",
    "- No cloning: The original state on qubit 0 is destroyed (collapsed by measurement)\n",
    "- Requires classical communication: The measurement results must be sent classically\n",
    "- Perfect fidelity: The teleported state is identical to the original\n",
    "- Uses entanglement as a resource\n"
   ]
  },
  {
   "cell_type": "code",
   "execution_count": 12,
   "id": "3f2c875a",
   "metadata": {},
   "outputs": [
    {
     "name": "stdout",
     "output_type": "stream",
     "text": [
      "Quantum Teleportation Circuit Diagram\n",
      "======================================================================\n",
      "\n",
      "Teleporting state: cos(1.047)|0⟩ + sin(1.047)|1⟩\n",
      "\n",
      "\n",
      "(<Figure size 1100x500 with 1 Axes>, <Axes: >)\n",
      "\n",
      "======================================================================\n",
      "\n",
      "Circuit Explanation:\n",
      "- Qubit 0: Starts with the state to teleport\n",
      "- Qubits 1-2: Bell pair creation and teleportation target\n",
      "- Measurements on qubits 0-1 trigger conditional corrections on qubit 2\n",
      "\n",
      "Result probabilities on qubit 2: P(|0⟩)=0.2500, P(|1⟩)=0.7500\n",
      "Expected: P(|0⟩)=0.2500, P(|1⟩)=0.7500\n",
      "\n",
      "✓ Teleportation successful!\n"
     ]
    },
    {
     "data": {
      "image/png": "[encoded data removed]",
      "text/plain": [
       "<Figure size 1100x500 with 1 Axes>"
      ]
     },
     "metadata": {},
     "output_type": "display_data"
    }
   ],
   "source": [
    "# Visualize the quantum teleportation circuit\n",
    "\n",
    "# Call the function with a specific state parameter\n",
    "state_angle = np.pi / 3  # This creates state: cos(60°)|0⟩ + sin(60°)|1⟩\n",
    "\n",
    "print(\"Quantum Teleportation Circuit Diagram\")\n",
    "print(\"=\" * 70)\n",
    "print(f\"\\nTeleporting state: cos({state_angle:.3f})|0⟩ + sin({state_angle:.3f})|1⟩\")\n",
    "print(\"\\n\")\n",
    "\n",
    "# Draw the circuit\n",
    "circuit_diagram = pl.draw_mpl(quantum_teleportation, output=\"mpl\")(state_angle)\n",
    "print(circuit_diagram)\n",
    "\n",
    "print(\"\\n\" + \"=\" * 70)\n",
    "print(\"\\nCircuit Explanation:\")\n",
    "print(\"- Qubit 0: Starts with the state to teleport\")\n",
    "print(\"- Qubits 1-2: Bell pair creation and teleportation target\")\n",
    "print(\"- Measurements on qubits 0-1 trigger conditional corrections on qubit 2\")\n",
    "\n",
    "# Run the circuit and show results\n",
    "result = quantum_teleportation(state_angle)\n",
    "print(f\"\\nResult probabilities on qubit 2: P(|0⟩)={result[0]:.4f}, P(|1⟩)={result[1]:.4f}\")\n",
    "print(f\"Expected: P(|0⟩)={np.cos(state_angle)**2:.4f}, P(|1⟩)={np.sin(state_angle)**2:.4f}\")\n",
    "print(f\"\\n✓ Teleportation successful!\")\n"
   ]
  }
 ],
 "metadata": {
  "kernelspec": {
   "display_name": "venv",
   "language": "python",
   "name": "python3"
  },
  "language_info": {
   "codemirror_mode": {
    "name": "ipython",
    "version": 3
   },
   "file_extension": ".py",
   "mimetype": "text/x-python",
   "name": "python",
   "nbconvert_exporter": "python",
   "pygments_lexer": "ipython3",
   "version": "3.11.9"
  }
 },
 "nbformat": 4,
 "nbformat_minor": 5
}
